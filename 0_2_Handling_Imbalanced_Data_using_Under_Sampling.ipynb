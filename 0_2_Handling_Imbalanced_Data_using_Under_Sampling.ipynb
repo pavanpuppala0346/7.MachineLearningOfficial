{
 "cells": [
  {
   "cell_type": "markdown",
   "metadata": {},
   "source": [
    "## Credit Card Kaggle- Handle Imbalanced Dataset\n",
    "\n",
    "### Context\n",
    "It is important that credit card companies are able to recognize fraudulent credit card transactions so that customers are not charged for items that they did not purchase.\n",
    "\n",
    "### Content\n",
    "The datasets contains transactions made by credit cards in September 2013 by european cardholders. This dataset presents transactions that occurred in two days, where we have 492 frauds out of 284,807 transactions. The dataset is highly unbalanced, the positive class (frauds) account for 0.172% of all transactions.\n",
    "\n",
    "It contains only numerical input variables which are the result of a PCA transformation. Unfortunately, due to confidentiality issues, we cannot provide the original features and more background information about the data. Features V1, V2, ... V28 are the principal components obtained with PCA, the only features which have not been transformed with PCA are 'Time' and 'Amount'. Feature 'Time' contains the seconds elapsed between each transaction and the first transaction in the dataset. The feature 'Amount' is the transaction Amount, this feature can be used for example-dependant cost-senstive learning. Feature 'Class' is the response variable and it takes value 1 in case of fraud and 0 otherwise.\n",
    "\n",
    "### Inspiration\n",
    "Identify fraudulent credit card transactions.\n",
    "\n",
    "Given the class imbalance ratio, we recommend measuring the accuracy using the Area Under the Precision-Recall Curve (AUPRC). Confusion matrix accuracy is not meaningful for unbalanced classification.\n",
    "\n",
    "### Acknowledgements\n",
    "The dataset has been collected and analysed during a research collaboration of Worldline and the Machine Learning Group (http://mlg.ulb.ac.be) of ULB (Université Libre de Bruxelles) on big data mining and fraud detection. More details on current and past projects on related topics are available on https://www.researchgate.net/project/Fraud-detection-5 and the page of the DefeatFraud project"
   ]
  },
  {
   "cell_type": "markdown",
   "metadata": {},
   "source": [
    "for more: https://www.youtube.com/watch?v=YMPMZmlH5Bo&t=120s&ab_channel=KrishNaik"
   ]
  },
  {
   "cell_type": "code",
   "execution_count": 14,
   "metadata": {},
   "outputs": [],
   "source": [
    "import numpy as np\n",
    "import pandas as pd\n",
    "import sklearn\n",
    "import scipy\n",
    "import matplotlib.pyplot as plt\n",
    "import seaborn as sns\n",
    "from sklearn.metrics import classification_report,accuracy_score\n",
    "from sklearn.ensemble import IsolationForest\n",
    "from sklearn.neighbors import LocalOutlierFactor\n",
    "from sklearn.svm import OneClassSVM\n",
    "from pylab import rcParams\n",
    "rcParams['figure.figsize'] = 14, 8\n",
    "RANDOM_SEED = 42\n",
    "LABELS = [\"Normal\", \"Fraud\"]\n"
   ]
  },
  {
   "cell_type": "code",
   "execution_count": 15,
   "metadata": {},
   "outputs": [],
   "source": [
    "import os\n",
    "\n",
    "os.chdir(\"E:/code/6.MachineLearning/3_Logistic_Regression\")"
   ]
  },
  {
   "cell_type": "code",
   "execution_count": 16,
   "metadata": {},
   "outputs": [
    {
     "data": {
      "text/html": [
       "<div>\n",
       "<style scoped>\n",
       "    .dataframe tbody tr th:only-of-type {\n",
       "        vertical-align: middle;\n",
       "    }\n",
       "\n",
       "    .dataframe tbody tr th {\n",
       "        vertical-align: top;\n",
       "    }\n",
       "\n",
       "    .dataframe thead th {\n",
       "        text-align: right;\n",
       "    }\n",
       "</style>\n",
       "<table border=\"1\" class=\"dataframe\">\n",
       "  <thead>\n",
       "    <tr style=\"text-align: right;\">\n",
       "      <th></th>\n",
       "      <th>Time</th>\n",
       "      <th>V1</th>\n",
       "      <th>V2</th>\n",
       "      <th>V3</th>\n",
       "      <th>V4</th>\n",
       "      <th>V5</th>\n",
       "      <th>V6</th>\n",
       "      <th>V7</th>\n",
       "      <th>V8</th>\n",
       "      <th>V9</th>\n",
       "      <th>...</th>\n",
       "      <th>V21</th>\n",
       "      <th>V22</th>\n",
       "      <th>V23</th>\n",
       "      <th>V24</th>\n",
       "      <th>V25</th>\n",
       "      <th>V26</th>\n",
       "      <th>V27</th>\n",
       "      <th>V28</th>\n",
       "      <th>Amount</th>\n",
       "      <th>Class</th>\n",
       "    </tr>\n",
       "  </thead>\n",
       "  <tbody>\n",
       "    <tr>\n",
       "      <th>0</th>\n",
       "      <td>0</td>\n",
       "      <td>-1.359807</td>\n",
       "      <td>-0.072781</td>\n",
       "      <td>2.536347</td>\n",
       "      <td>1.378155</td>\n",
       "      <td>-0.338321</td>\n",
       "      <td>0.462388</td>\n",
       "      <td>0.239599</td>\n",
       "      <td>0.098698</td>\n",
       "      <td>0.363787</td>\n",
       "      <td>...</td>\n",
       "      <td>-0.018307</td>\n",
       "      <td>0.277838</td>\n",
       "      <td>-0.110474</td>\n",
       "      <td>0.066928</td>\n",
       "      <td>0.128539</td>\n",
       "      <td>-0.189115</td>\n",
       "      <td>0.133558</td>\n",
       "      <td>-0.021053</td>\n",
       "      <td>149.62</td>\n",
       "      <td>0</td>\n",
       "    </tr>\n",
       "    <tr>\n",
       "      <th>1</th>\n",
       "      <td>3073</td>\n",
       "      <td>1.188739</td>\n",
       "      <td>-0.110925</td>\n",
       "      <td>-0.247423</td>\n",
       "      <td>-0.056450</td>\n",
       "      <td>-0.230669</td>\n",
       "      <td>-0.884735</td>\n",
       "      <td>0.252123</td>\n",
       "      <td>-0.107019</td>\n",
       "      <td>-0.128072</td>\n",
       "      <td>...</td>\n",
       "      <td>-0.339530</td>\n",
       "      <td>-1.248046</td>\n",
       "      <td>0.070858</td>\n",
       "      <td>-0.003754</td>\n",
       "      <td>0.148766</td>\n",
       "      <td>0.706722</td>\n",
       "      <td>-0.132117</td>\n",
       "      <td>-0.008134</td>\n",
       "      <td>58.92</td>\n",
       "      <td>0</td>\n",
       "    </tr>\n",
       "    <tr>\n",
       "      <th>2</th>\n",
       "      <td>3073</td>\n",
       "      <td>-0.548584</td>\n",
       "      <td>0.647927</td>\n",
       "      <td>-0.590784</td>\n",
       "      <td>-3.241789</td>\n",
       "      <td>2.647739</td>\n",
       "      <td>2.924031</td>\n",
       "      <td>0.319644</td>\n",
       "      <td>-0.224865</td>\n",
       "      <td>0.765084</td>\n",
       "      <td>...</td>\n",
       "      <td>0.771417</td>\n",
       "      <td>-0.009922</td>\n",
       "      <td>-0.216549</td>\n",
       "      <td>0.995281</td>\n",
       "      <td>0.252971</td>\n",
       "      <td>-0.818252</td>\n",
       "      <td>0.275449</td>\n",
       "      <td>-0.012249</td>\n",
       "      <td>1.00</td>\n",
       "      <td>0</td>\n",
       "    </tr>\n",
       "    <tr>\n",
       "      <th>3</th>\n",
       "      <td>3075</td>\n",
       "      <td>-1.516972</td>\n",
       "      <td>-0.798039</td>\n",
       "      <td>-0.352068</td>\n",
       "      <td>-2.878183</td>\n",
       "      <td>3.975981</td>\n",
       "      <td>1.930716</td>\n",
       "      <td>-0.389529</td>\n",
       "      <td>0.566296</td>\n",
       "      <td>0.872467</td>\n",
       "      <td>...</td>\n",
       "      <td>-0.066073</td>\n",
       "      <td>0.103967</td>\n",
       "      <td>-0.592267</td>\n",
       "      <td>1.052167</td>\n",
       "      <td>0.431615</td>\n",
       "      <td>-0.774772</td>\n",
       "      <td>0.268011</td>\n",
       "      <td>-0.124329</td>\n",
       "      <td>1.00</td>\n",
       "      <td>0</td>\n",
       "    </tr>\n",
       "    <tr>\n",
       "      <th>4</th>\n",
       "      <td>3075</td>\n",
       "      <td>-2.194168</td>\n",
       "      <td>0.077288</td>\n",
       "      <td>2.313353</td>\n",
       "      <td>1.903733</td>\n",
       "      <td>1.332965</td>\n",
       "      <td>-0.730896</td>\n",
       "      <td>0.126259</td>\n",
       "      <td>-0.315549</td>\n",
       "      <td>-0.171180</td>\n",
       "      <td>...</td>\n",
       "      <td>-0.245901</td>\n",
       "      <td>-0.069742</td>\n",
       "      <td>-0.939594</td>\n",
       "      <td>0.461452</td>\n",
       "      <td>0.454872</td>\n",
       "      <td>-0.050365</td>\n",
       "      <td>-0.364221</td>\n",
       "      <td>-0.175896</td>\n",
       "      <td>29.90</td>\n",
       "      <td>0</td>\n",
       "    </tr>\n",
       "  </tbody>\n",
       "</table>\n",
       "<p>5 rows × 31 columns</p>\n",
       "</div>"
      ],
      "text/plain": [
       "   Time        V1        V2        V3        V4        V5        V6        V7  \\\n",
       "0     0 -1.359807 -0.072781  2.536347  1.378155 -0.338321  0.462388  0.239599   \n",
       "1  3073  1.188739 -0.110925 -0.247423 -0.056450 -0.230669 -0.884735  0.252123   \n",
       "2  3073 -0.548584  0.647927 -0.590784 -3.241789  2.647739  2.924031  0.319644   \n",
       "3  3075 -1.516972 -0.798039 -0.352068 -2.878183  3.975981  1.930716 -0.389529   \n",
       "4  3075 -2.194168  0.077288  2.313353  1.903733  1.332965 -0.730896  0.126259   \n",
       "\n",
       "         V8        V9  ...       V21       V22       V23       V24       V25  \\\n",
       "0  0.098698  0.363787  ... -0.018307  0.277838 -0.110474  0.066928  0.128539   \n",
       "1 -0.107019 -0.128072  ... -0.339530 -1.248046  0.070858 -0.003754  0.148766   \n",
       "2 -0.224865  0.765084  ...  0.771417 -0.009922 -0.216549  0.995281  0.252971   \n",
       "3  0.566296  0.872467  ... -0.066073  0.103967 -0.592267  1.052167  0.431615   \n",
       "4 -0.315549 -0.171180  ... -0.245901 -0.069742 -0.939594  0.461452  0.454872   \n",
       "\n",
       "        V26       V27       V28  Amount  Class  \n",
       "0 -0.189115  0.133558 -0.021053  149.62      0  \n",
       "1  0.706722 -0.132117 -0.008134   58.92      0  \n",
       "2 -0.818252  0.275449 -0.012249    1.00      0  \n",
       "3 -0.774772  0.268011 -0.124329    1.00      0  \n",
       "4 -0.050365 -0.364221 -0.175896   29.90      0  \n",
       "\n",
       "[5 rows x 31 columns]"
      ]
     },
     "execution_count": 16,
     "metadata": {},
     "output_type": "execute_result"
    }
   ],
   "source": [
    "import pandas as pd\n",
    "\n",
    "df = pd.read_csv(\"https://raw.githubusercontent.com/pavanpuppala0346/data/main/creditcards.csv\")\n",
    "df.head()"
   ]
  },
  {
   "cell_type": "code",
   "execution_count": 17,
   "metadata": {},
   "outputs": [
    {
     "name": "stdout",
     "output_type": "stream",
     "text": [
      "<class 'pandas.core.frame.DataFrame'>\n",
      "RangeIndex: 2493 entries, 0 to 2492\n",
      "Data columns (total 31 columns):\n",
      " #   Column  Non-Null Count  Dtype  \n",
      "---  ------  --------------  -----  \n",
      " 0   Time    2493 non-null   int64  \n",
      " 1   V1      2493 non-null   float64\n",
      " 2   V2      2493 non-null   float64\n",
      " 3   V3      2493 non-null   float64\n",
      " 4   V4      2493 non-null   float64\n",
      " 5   V5      2493 non-null   float64\n",
      " 6   V6      2493 non-null   float64\n",
      " 7   V7      2493 non-null   float64\n",
      " 8   V8      2493 non-null   float64\n",
      " 9   V9      2493 non-null   float64\n",
      " 10  V10     2493 non-null   float64\n",
      " 11  V11     2493 non-null   float64\n",
      " 12  V12     2493 non-null   float64\n",
      " 13  V13     2493 non-null   float64\n",
      " 14  V14     2493 non-null   float64\n",
      " 15  V15     2493 non-null   float64\n",
      " 16  V16     2493 non-null   float64\n",
      " 17  V17     2493 non-null   float64\n",
      " 18  V18     2493 non-null   float64\n",
      " 19  V19     2493 non-null   float64\n",
      " 20  V20     2493 non-null   float64\n",
      " 21  V21     2493 non-null   float64\n",
      " 22  V22     2493 non-null   float64\n",
      " 23  V23     2493 non-null   float64\n",
      " 24  V24     2493 non-null   float64\n",
      " 25  V25     2493 non-null   float64\n",
      " 26  V26     2493 non-null   float64\n",
      " 27  V27     2493 non-null   float64\n",
      " 28  V28     2493 non-null   float64\n",
      " 29  Amount  2493 non-null   float64\n",
      " 30  Class   2493 non-null   int64  \n",
      "dtypes: float64(29), int64(2)\n",
      "memory usage: 603.9 KB\n"
     ]
    }
   ],
   "source": [
    "df.info()"
   ]
  },
  {
   "cell_type": "code",
   "execution_count": 18,
   "metadata": {},
   "outputs": [
    {
     "name": "stdout",
     "output_type": "stream",
     "text": [
      "(2493, 30)\n",
      "(2493,)\n",
      "<class 'numpy.ndarray'>\n"
     ]
    }
   ],
   "source": [
    "import numpy as np\n",
    "\n",
    "columns = df.columns.to_list()                                 # converting column names in  \"nd array\" into \"list\"\n",
    "columns = [col for col in columns if col not in ['Class']]     # removing \"Class\" column\n",
    "target = \"Class\"\n",
    "\n",
    "# Define a random state \n",
    "state = np.random.RandomState(42)\n",
    "X = df[columns].values\n",
    "y = df[target].values\n",
    "X_outliers = state.uniform(low=0, high=1, size=(X.shape[0], X.shape[1]))\n",
    "\n",
    "# Print the shapes of X & Y\n",
    "print(X.shape)\n",
    "print(y.shape)\n",
    "print(type(X))"
   ]
  },
  {
   "cell_type": "markdown",
   "metadata": {},
   "source": [
    "## Exploratory Data Analysis"
   ]
  },
  {
   "cell_type": "code",
   "execution_count": 19,
   "metadata": {},
   "outputs": [
    {
     "data": {
      "text/plain": [
       "False"
      ]
     },
     "execution_count": 19,
     "metadata": {},
     "output_type": "execute_result"
    }
   ],
   "source": [
    "df.isnull().values.any()        # finding any null values "
   ]
  },
  {
   "cell_type": "code",
   "execution_count": 20,
   "metadata": {},
   "outputs": [
    {
     "data": {
      "image/png": "[encoded data removed]",
      "text/plain": [
       "<Figure size 1008x576 with 1 Axes>"
      ]
     },
     "metadata": {
      "needs_background": "light"
     },
     "output_type": "display_data"
    }
   ],
   "source": [
    "import matplotlib.pyplot as plt\n",
    "\n",
    "count_classes = pd.value_counts(df['Class'], sort = True)\n",
    "\n",
    "count_classes.plot(kind = 'bar', rot=0)\n",
    "\n",
    "plt.title(\"Transaction Class Distribution\")\n",
    "\n",
    "plt.xticks(range(2), LABELS)\n",
    "\n",
    "plt.xlabel(\"Class\")\n",
    "\n",
    "plt.ylabel(\"Frequency\")\n",
    "plt.show()"
   ]
  },
  {
   "cell_type": "code",
   "execution_count": 21,
   "metadata": {},
   "outputs": [],
   "source": [
    "## Get the Fraud and the normal dataset \n",
    "\n",
    "fraud = df[df['Class']==1]\n",
    "\n",
    "normal = df[df['Class']==0]"
   ]
  },
  {
   "cell_type": "code",
   "execution_count": 22,
   "metadata": {},
   "outputs": [
    {
     "name": "stdout",
     "output_type": "stream",
     "text": [
      "(492, 31) (2001, 31)\n"
     ]
    }
   ],
   "source": [
    "print(fraud.shape,normal.shape)"
   ]
  },
  {
   "cell_type": "code",
   "execution_count": 23,
   "metadata": {},
   "outputs": [],
   "source": [
    "# Implementing Undersampling for Handling Imbalanced \n",
    "\n",
    "from imblearn.under_sampling import NearMiss\n",
    "\n",
    "nm = NearMiss()\n",
    "X_res,y_res=nm.fit_sample(X,y)"
   ]
  },
  {
   "cell_type": "code",
   "execution_count": 24,
   "metadata": {},
   "outputs": [
    {
     "data": {
      "text/plain": [
       "((984, 30), (984,))"
      ]
     },
     "execution_count": 24,
     "metadata": {},
     "output_type": "execute_result"
    }
   ],
   "source": [
    "X_res.shape,y_res.shape"
   ]
  },
  {
   "cell_type": "code",
   "execution_count": 25,
   "metadata": {},
   "outputs": [
    {
     "name": "stdout",
     "output_type": "stream",
     "text": [
      "Original dataset shape Counter({0: 2001, 1: 492})\n",
      "Resampled dataset shape Counter({0: 492, 1: 492})\n"
     ]
    }
   ],
   "source": [
    "from collections import Counter\n",
    "\n",
    "print('Original dataset shape {}'.format(Counter(y)))\n",
    "print('Resampled dataset shape {}'.format(Counter(y_res)))\n"
   ]
  },
  {
   "cell_type": "code",
   "execution_count": null,
   "metadata": {},
   "outputs": [],
   "source": []
  },
  {
   "cell_type": "code",
   "execution_count": null,
   "metadata": {},
   "outputs": [],
   "source": []
  }
 ],
 "metadata": {
  "kernelspec": {
   "display_name": "Python 3",
   "language": "python",
   "name": "python3"
  },
  "language_info": {
   "codemirror_mode": {
    "name": "ipython",
    "version": 3
   },
   "file_extension": ".py",
   "mimetype": "text/x-python",
   "name": "python",
   "nbconvert_exporter": "python",
   "pygments_lexer": "ipython3",
   "version": "3.6.5"
  }
 },
 "nbformat": 4,
 "nbformat_minor": 2
}
